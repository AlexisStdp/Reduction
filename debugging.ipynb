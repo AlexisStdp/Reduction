{
 "cells": [
  {
   "cell_type": "markdown",
   "metadata": {},
   "source": [
    "# Check getting weights from model"
   ]
  },
  {
   "cell_type": "code",
   "execution_count": 1,
   "metadata": {},
   "outputs": [],
   "source": [
    "from stack import Stack"
   ]
  },
  {
   "cell_type": "code",
   "execution_count": 2,
   "metadata": {},
   "outputs": [],
   "source": [
    "model = Stack(input_dim=10, hidden_dim=100, output_dim=2)"
   ]
  },
  {
   "cell_type": "code",
   "execution_count": 3,
   "metadata": {},
   "outputs": [
    {
     "data": {
      "text/plain": [
       "torch.Size([100, 10])"
      ]
     },
     "execution_count": 3,
     "metadata": {},
     "output_type": "execute_result"
    }
   ],
   "source": [
    "model.affine1.weight.clone().shape"
   ]
  },
  {
   "cell_type": "code",
   "execution_count": 4,
   "metadata": {},
   "outputs": [
    {
     "data": {
      "text/plain": [
       "[torch.Size([100, 10]),\n",
       " torch.Size([100]),\n",
       " torch.Size([2, 100]),\n",
       " torch.Size([2]),\n",
       " torch.Size([2, 10])]"
      ]
     },
     "execution_count": 4,
     "metadata": {},
     "output_type": "execute_result"
    }
   ],
   "source": [
    "[w.shape for w in model.get_weights()]"
   ]
  },
  {
   "cell_type": "markdown",
   "metadata": {},
   "source": [
    "# First reduction steps"
   ]
  },
  {
   "cell_type": "markdown",
   "metadata": {},
   "source": [
    "In this part, we will take a simple model (one stack model) trained on the MNIST dataset and attempt to reduce it."
   ]
  },
  {
   "cell_type": "code",
   "execution_count": 1,
   "metadata": {},
   "outputs": [],
   "source": [
    "from stack import Stack, svdStack\n",
    "from reduction import remove_outside_neurons, remove_weak_neurons, compute_bvv, get_cluster_weights\n",
    "from reduction import cluster_neurons, svd_affine\n",
    "\n",
    "import tqdm\n",
    "import torch\n",
    "import torchvision\n",
    "import torchvision.transforms as transforms\n",
    "import torch.nn.functional as F\n",
    "\n",
    "device = torch.device(\"cuda:0\" if torch.cuda.is_available() else \"cpu\")"
   ]
  },
  {
   "cell_type": "code",
   "execution_count": 2,
   "metadata": {},
   "outputs": [
    {
     "data": {
      "text/plain": [
       "torch.Size([100, 784])"
      ]
     },
     "execution_count": 2,
     "metadata": {},
     "output_type": "execute_result"
    }
   ],
   "source": [
    "transform = transforms.Compose([transforms.ToTensor()])\n",
    "# download the MNIST dataset - if it's not already downloaded\n",
    "trainset = torchvision.datasets.MNIST(root='./data', train=True, download=True, transform=transform)\n",
    "testset = torchvision.datasets.MNIST(root='./data', train=False, download=True, transform=transform)\n",
    "testloader = torch.utils.data.DataLoader(testset, batch_size=32, shuffle=False, num_workers=2)\n",
    "\n",
    "def evaluate(model, testloader):\n",
    "    # evaluate the model accuracy and loss on the test set\n",
    "    model.eval()\n",
    "    model.to(device)\n",
    "    correct = 0\n",
    "    total = 0\n",
    "    loss = 0\n",
    "    with torch.no_grad():\n",
    "        for data in tqdm.tqdm(testloader):\n",
    "            images, labels = data[0].to(device), data[1].to(device)\n",
    "            outputs = model(images.view(-1, 784))\n",
    "            _, predicted = torch.max(outputs, 1)\n",
    "            total += labels.size(0)\n",
    "            correct += (predicted == labels).sum().item()\n",
    "            loss += F.cross_entropy(outputs, labels).item()\n",
    "    model.to('cpu')\n",
    "\n",
    "    print('Accuracy of the network on the 10000 test images: %d %%' % (100 * correct / total))\n",
    "    # print('Average loss: %.3f' % (loss / total))\n",
    "    print('Average loss: %.6f' % (loss / total))\n",
    "\n",
    "# get a tensor of the first 100 images, shape: (100, 1, 28, 28)\n",
    "images = torch.stack([image for image, label in [trainset[i] for i in range(100)]])\n",
    "# reshape to (100, 784)\n",
    "images = images.view(100, -1)\n",
    "images.shape"
   ]
  },
  {
   "cell_type": "code",
   "execution_count": 4,
   "metadata": {},
   "outputs": [
    {
     "data": {
      "text/plain": [
       "Stack(\n",
       "  (affine1): Linear(in_features=784, out_features=1024, bias=True)\n",
       "  (affine2): Linear(in_features=1024, out_features=10, bias=True)\n",
       "  (affine_skip): Linear(in_features=784, out_features=10, bias=False)\n",
       "  (dropout): Dropout(p=0.1, inplace=False)\n",
       ")"
      ]
     },
     "execution_count": 4,
     "metadata": {},
     "output_type": "execute_result"
    }
   ],
   "source": [
    "# model = Stack(input_dim=784, hidden_dim=1024, output_dim=10, dropout=0)\n",
    "# model = Stack(input_dim=784, hidden_dim=1024, output_dim=10, dropout=0.1)\n",
    "model = Stack(input_dim=784, hidden_dim=1024, output_dim=10, dropout=0.1, activation=F.silu)  # SiLU activation -> trickier to reduce\n",
    "\n",
    "# checkpoint = torch.load('./checkpoints/stack_epoch=9-step=4690.ckpt')['state_dict']\n",
    "# checkpoint = torch.load('./checkpoints/stack_d_epoch=19-step=9380.ckpt')['state_dict']\n",
    "checkpoint = torch.load('./checkpoints/stack_d_silu_epoch=19-step=9380.ckpt')['state_dict']\n",
    "for k in list(checkpoint.keys()):\n",
    "    # checkpoint[k.removeprefix('stack.')] = checkpoint.pop(k)\n",
    "    checkpoint[k.removeprefix('model.')] = checkpoint.pop(k)\n",
    "\n",
    "model.load_state_dict(checkpoint)\n",
    "model.eval()"
   ]
  },
  {
   "cell_type": "markdown",
   "metadata": {},
   "source": [
    "## Remove outside neurons"
   ]
  },
  {
   "cell_type": "markdown",
   "metadata": {},
   "source": [
    "First step is to remove the **outside neurons**.\n",
    "These are the neurons which, whatever the input, will output either an always positive or an always negative value.\n",
    "(Which means, once ReLU is applied, they will always output 0 or a positive value)\n",
    "\n",
    "In order to do this, we run the model on all the images in the dataset, but this would be too computationally expensive!\n",
    "Therefore, we will only run the model on a subset of the dataset: this is done in the **in-distribution images** part which follows.\n",
    "\n",
    "The *Tries with random images* part is just an attempt to use completely random images instead of a subset of the dataset. \n",
    "This did not work well, so let's skip it."
   ]
  },
  {
   "cell_type": "markdown",
   "metadata": {},
   "source": [
    "### Tries with random images"
   ]
  },
  {
   "cell_type": "code",
   "execution_count": 28,
   "metadata": {},
   "outputs": [
    {
     "data": {
      "text/plain": [
       "(torch.Size([100, 784]),\n",
       " tensor(0.),\n",
       " tensor(1.),\n",
       " torch.Size([1000, 784]),\n",
       " tensor(7.1526e-07),\n",
       " tensor(1.0000))"
      ]
     },
     "execution_count": 28,
     "metadata": {},
     "output_type": "execute_result"
    }
   ],
   "source": [
    "random_imgs = torch.rand(1_000, 784)\n",
    "images.shape, images.min(), images.max(), random_imgs.shape, random_imgs.min(), random_imgs.max()"
   ]
  },
  {
   "cell_type": "code",
   "execution_count": 29,
   "metadata": {},
   "outputs": [
    {
     "name": "stdout",
     "output_type": "stream",
     "text": [
      "tensor(-978.3373, grad_fn=<SumBackward0>) tensor(-817.3730, grad_fn=<SumBackward0>)\n"
     ]
    },
    {
     "data": {
      "text/plain": [
       "(821930, 306770)"
      ]
     },
     "execution_count": 29,
     "metadata": {},
     "output_type": "execute_result"
    }
   ],
   "source": [
    "new_weights = remove_outside_neurons(model.get_weights(), random_imgs)\n",
    "new_model = Stack(input_dim=784, hidden_dim=new_weights[0].shape[0], output_dim=10)\n",
    "new_model.set_weights(new_weights)\n",
    "\n",
    "print(model(images).sum(), new_model(images).sum())\n",
    "\n",
    "# number of parameters of each model\n",
    "sum([w.numel() for w in model.parameters()]), sum([w.numel() for w in new_model.parameters()])"
   ]
  },
  {
   "cell_type": "markdown",
   "metadata": {},
   "source": [
    "Therefore, random images are not good enough to remove outside neurons..."
   ]
  },
  {
   "cell_type": "code",
   "execution_count": 33,
   "metadata": {},
   "outputs": [
    {
     "data": {
      "text/plain": [
       "torch.Size([2, 784])"
      ]
     },
     "execution_count": 33,
     "metadata": {},
     "output_type": "execute_result"
    }
   ],
   "source": [
    "torch.zeros(784).shape, torch.ones(784).shape\n",
    "extreme_input = torch.stack([torch.zeros(784), torch.ones(784)])\n",
    "extreme_input.shape"
   ]
  },
  {
   "cell_type": "code",
   "execution_count": 35,
   "metadata": {},
   "outputs": [
    {
     "data": {
      "text/plain": [
       "torch.Size([100, 784])"
      ]
     },
     "execution_count": 35,
     "metadata": {},
     "output_type": "execute_result"
    }
   ],
   "source": [
    "# let's make a tensor composed only of zeros and ones randomly of shape (100,784)\n",
    "random_imgs = torch.randint(0, 2, (100, 784)).float()\n",
    "random_imgs.shape"
   ]
  },
  {
   "cell_type": "code",
   "execution_count": 36,
   "metadata": {},
   "outputs": [
    {
     "name": "stdout",
     "output_type": "stream",
     "text": [
      "tensor(-978.3373, grad_fn=<SumBackward0>) tensor(-815.3214, grad_fn=<SumBackward0>)\n"
     ]
    },
    {
     "data": {
      "text/plain": [
       "(821930, 302000)"
      ]
     },
     "execution_count": 36,
     "metadata": {},
     "output_type": "execute_result"
    }
   ],
   "source": [
    "new_weights = remove_outside_neurons(model.get_weights(), random_imgs)\n",
    "new_model = Stack(input_dim=784, hidden_dim=new_weights[0].shape[0], output_dim=10)\n",
    "new_model.set_weights(new_weights)\n",
    "\n",
    "print(model(images).sum(), new_model(images).sum())\n",
    "\n",
    "# number of parameters of each model\n",
    "sum([w.numel() for w in model.parameters()]), sum([w.numel() for w in new_model.parameters()])"
   ]
  },
  {
   "cell_type": "markdown",
   "metadata": {},
   "source": [
    "Just trying some various other inputs, but no success there. Looks like we need representatve examples."
   ]
  },
  {
   "cell_type": "markdown",
   "metadata": {},
   "source": [
    "### In-distribution images"
   ]
  },
  {
   "cell_type": "code",
   "execution_count": 7,
   "metadata": {},
   "outputs": [
    {
     "name": "stdout",
     "output_type": "stream",
     "text": [
      "number of hidden neurons: 692\n",
      "tensor(-4227.3525, grad_fn=<SumBackward0>) tensor(-5297.3730, grad_fn=<SumBackward0>)\n"
     ]
    },
    {
     "data": {
      "text/plain": [
       "(821930, 557990)"
      ]
     },
     "execution_count": 7,
     "metadata": {},
     "output_type": "execute_result"
    }
   ],
   "source": [
    "new_weights = remove_outside_neurons(model.get_weights(), images)\n",
    "new_model = Stack(input_dim=784, hidden_dim=new_weights[0].shape[0], output_dim=10)\n",
    "new_model.set_weights(new_weights)\n",
    "new_model.eval()\n",
    "\n",
    "print(f\"number of hidden neurons: {new_weights[0].shape[0]}\")\n",
    "\n",
    "print(model(images).sum(), new_model(images).sum())\n",
    "\n",
    "# number of parameters of each model\n",
    "sum([w.numel() for w in model.parameters()]), sum([w.numel() for w in new_model.parameters()])"
   ]
  },
  {
   "cell_type": "code",
   "execution_count": 8,
   "metadata": {},
   "outputs": [
    {
     "name": "stdout",
     "output_type": "stream",
     "text": [
      "Original model:\n"
     ]
    },
    {
     "name": "stderr",
     "output_type": "stream",
     "text": [
      "  0%|          | 0/313 [00:00<?, ?it/s]"
     ]
    },
    {
     "name": "stderr",
     "output_type": "stream",
     "text": [
      "100%|██████████| 313/313 [00:04<00:00, 75.91it/s] \n"
     ]
    },
    {
     "name": "stdout",
     "output_type": "stream",
     "text": [
      "Accuracy of the network on the 10000 test images: 97 %\n",
      "Average loss: 0.002641\n",
      "New model:\n"
     ]
    },
    {
     "name": "stderr",
     "output_type": "stream",
     "text": [
      "100%|██████████| 313/313 [00:03<00:00, 80.08it/s] "
     ]
    },
    {
     "name": "stdout",
     "output_type": "stream",
     "text": [
      "Accuracy of the network on the 10000 test images: 96 %\n",
      "Average loss: 0.003793\n"
     ]
    },
    {
     "name": "stderr",
     "output_type": "stream",
     "text": [
      "\n"
     ]
    }
   ],
   "source": [
    "print('Original model:')\n",
    "evaluate(model, testloader)\n",
    "print('New model:')\n",
    "evaluate(new_model, testloader)"
   ]
  },
  {
   "cell_type": "markdown",
   "metadata": {},
   "source": [
    "### Remove weak neurons"
   ]
  },
  {
   "cell_type": "markdown",
   "metadata": {},
   "source": [
    "Once the **outside neurons** are removed, we can remove the **weak neurons**.\n",
    "\n",
    "These are the neurons which, whatever the input, will output a small (weak) value."
   ]
  },
  {
   "cell_type": "code",
   "execution_count": 71,
   "metadata": {},
   "outputs": [
    {
     "name": "stdout",
     "output_type": "stream",
     "text": [
      "number of hidden neurons: 298\n",
      "tensor(-3856.2852, grad_fn=<SumBackward0>) tensor(-3851.0703, grad_fn=<SumBackward0>)\n"
     ]
    },
    {
     "data": {
      "text/plain": [
       "(821930, 244760)"
      ]
     },
     "execution_count": 71,
     "metadata": {},
     "output_type": "execute_result"
    }
   ],
   "source": [
    "# new_weights = [v[index][discard_neurons:], b[index][discard_neurons:], w[:, index][:, discard_neurons:], c, w_affine]\n",
    "new_weights = remove_weak_neurons(new_model.get_weights(), discard_neurons=230)\n",
    "new_model2 = Stack(input_dim=784, hidden_dim=new_weights[0].shape[0], output_dim=10)\n",
    "new_model2.set_weights(new_weights)\n",
    "new_model2.eval()\n",
    "\n",
    "print(f\"number of hidden neurons: {new_weights[0].shape[0]}\")\n",
    "\n",
    "print(model(images).sum(), new_model2(images).sum())\n",
    "\n",
    "# number of parameters of each model\n",
    "sum([w.numel() for w in model.parameters()]), sum([w.numel() for w in new_model2.parameters()])"
   ]
  },
  {
   "cell_type": "code",
   "execution_count": 6,
   "metadata": {},
   "outputs": [
    {
     "data": {
      "text/plain": [
       "508700"
      ]
     },
     "execution_count": 6,
     "metadata": {},
     "output_type": "execute_result"
    }
   ],
   "source": [
    "784*630 + 630 + 630*10 + 10 + 784*10"
   ]
  },
  {
   "cell_type": "code",
   "execution_count": 72,
   "metadata": {},
   "outputs": [
    {
     "name": "stdout",
     "output_type": "stream",
     "text": [
      "New model2:\n"
     ]
    },
    {
     "name": "stderr",
     "output_type": "stream",
     "text": [
      "100%|██████████| 313/313 [00:03<00:00, 81.35it/s] "
     ]
    },
    {
     "name": "stdout",
     "output_type": "stream",
     "text": [
      "Accuracy of the network on the 10000 test images: 97 %\n",
      "Average loss: 0.002490\n"
     ]
    },
    {
     "name": "stderr",
     "output_type": "stream",
     "text": [
      "\n"
     ]
    }
   ],
   "source": [
    "print('New model2:')\n",
    "evaluate(new_model2, testloader)"
   ]
  },
  {
   "cell_type": "markdown",
   "metadata": {},
   "source": [
    "### Cluster neurons"
   ]
  },
  {
   "cell_type": "markdown",
   "metadata": {},
   "source": [
    "Finally, after removing the **outside neurons** and the **weak neurons**, we can **cluster** the remaining neurons."
   ]
  },
  {
   "cell_type": "code",
   "execution_count": 73,
   "metadata": {},
   "outputs": [
    {
     "data": {
      "text/plain": [
       "(torch.Size([298, 784]),\n",
       " torch.Size([298]),\n",
       " torch.Size([10, 298]),\n",
       " torch.Size([10]),\n",
       " torch.Size([10, 784]))"
      ]
     },
     "execution_count": 73,
     "metadata": {},
     "output_type": "execute_result"
    }
   ],
   "source": [
    "v, b, w, c, w_affine = new_model2.get_weights()\n",
    "v.shape, b.shape, w.shape, c.shape, w_affine.shape"
   ]
  },
  {
   "cell_type": "code",
   "execution_count": 75,
   "metadata": {},
   "outputs": [
    {
     "name": "stdout",
     "output_type": "stream",
     "text": [
      "[torch.Size([784, 298]), torch.Size([298]), torch.Size([298, 10]), torch.Size([10]), torch.Size([784, 10])]\n",
      "torch.Size([784, 298]) torch.Size([298, 10])\n",
      "torch.Size([298]) torch.Size([298])\n",
      "Done computing M for clustering. Shape of bvv: (298, 298)\n"
     ]
    },
    {
     "data": {
      "text/plain": [
       "(298, 298)"
      ]
     },
     "execution_count": 75,
     "metadata": {},
     "output_type": "execute_result"
    }
   ],
   "source": [
    "import numpy as np\n",
    "\n",
    "def get_cluster_weights(weights):\n",
    "    \"\"\"\n",
    "    Compute the weighting for the clustering\n",
    "\n",
    "    Args:\n",
    "    weights: Tuple[torch.Tensor]\n",
    "        The weights of the model, format: (v, b, w, c, w_affine)\n",
    "\n",
    "    Returns:\n",
    "    Tuple[torch.Tensor]\n",
    "        The weights of the cluster, format: (v.shape[1])\n",
    "    \"\"\"\n",
    "    v, _, w, _, _ = weights\n",
    "    print(v.shape, w.shape)\n",
    "    v = v.norm(dim=0)\n",
    "    w = w.norm(dim=1)\n",
    "    print(v.shape, w.shape)\n",
    "    return v * w\n",
    "\n",
    "def compute_distance_matrix_for_clustering_merge_signs(weights, ord=1, verbose=1):\n",
    "    # \"\"\"from usual weights, compute bv/|v|**2 which will be later clustered\n",
    "    # they will then be concatenated with v/|v|\"\"\"\n",
    "    weights = [w.T.detach() for w in weights]\n",
    "    print([w.shape for w in weights])\n",
    "    v, b, _, _, _ = weights\n",
    "    norms = np.linalg.norm(v, axis=0, ord=ord)\n",
    "    bvv = np.array([b[i] * v[:, i] / norms[i] ** 2 for i, _ in enumerate(v[0])])\n",
    "\n",
    "    v_normed = v / norms\n",
    "    # bvv = np.concatenate((bvv, v_normed.T), axis=1)\n",
    "\n",
    "    cos_sim = lambda v, v_: 1 - np.abs(\n",
    "        v @ v_.T / (np.linalg.norm(v) * np.linalg.norm(v_))\n",
    "    )\n",
    "    # cos_sim = lambda v, v_: 1 - v @ v_.T / (np.linalg.norm(v) * np.linalg.norm(v_))\n",
    "    eucl_dist = lambda v, v_: np.linalg.norm(v - v_)\n",
    "\n",
    "    D = np.zeros((norms.shape[0], norms.shape[0]))\n",
    "    cluster_weights = get_cluster_weights(weights)\n",
    "    # cluster_weights = compute_weights_for_clustering(weights, ord=ord, verbose=verbose)\n",
    "\n",
    "    for i, m in enumerate(D):\n",
    "        for j, _ in enumerate(m):\n",
    "            if j > i:\n",
    "                D[i, j] = eucl_dist(bvv[i, :], bvv[j, :]) + cos_sim(\n",
    "                    v_normed[:, i], v_normed[:, j]\n",
    "                )\n",
    "                D[i, j] *= min(cluster_weights[i], cluster_weights[j])\n",
    "            elif i > j:\n",
    "                D[i, j] = D[j, i]\n",
    "            else:\n",
    "                D[i, j] = 0\n",
    "    if verbose:\n",
    "        print(f\"Done computing M for clustering. Shape of bvv: {D.shape}\")\n",
    "    return D\n",
    "\n",
    "compute_distance_matrix_for_clustering_merge_signs(new_model2.get_weights()).shape"
   ]
  },
  {
   "cell_type": "code",
   "execution_count": 10,
   "metadata": {},
   "outputs": [],
   "source": [
    "def get_kink(tmp_weights):\n",
    "    \"\"\"\n",
    "    Compute the kink of the cluster\n",
    "\n",
    "    Args:\n",
    "    tmp_weights: Tuple[torch.Tensor]\n",
    "        The weights of the model, format: (v, b, w)\n",
    "\n",
    "    Returns:\n",
    "    xi: torch.Tensor\n",
    "        The kink of the cluster\n",
    "    \"\"\"\n",
    "    v, b, w = tmp_weights\n",
    "    xi = b @ v.norm(dim=1)\n",
    "    xi /= w.norm(dim=1) @ v.norm(dim=1)\n",
    "    return xi\n"
   ]
  },
  {
   "cell_type": "code",
   "execution_count": 76,
   "metadata": {},
   "outputs": [
    {
     "name": "stdout",
     "output_type": "stream",
     "text": [
      "Done clustering bvv. Shape of centers: (100, 1568)\n",
      "tensor(-3856.2852, grad_fn=<SumBackward0>) tensor(-3645.6318, grad_fn=<SumBackward0>)\n"
     ]
    },
    {
     "data": {
      "text/plain": [
       "(821930, 87350)"
      ]
     },
     "execution_count": 76,
     "metadata": {},
     "output_type": "execute_result"
    }
   ],
   "source": [
    "# new_weights2 = get_clustered_weights(new_model2.get_weights(), cluster)\n",
    "# new_weights2 = [V, B, W.T, new_weights[3], new_weights[4]]\n",
    "new_weights2 = cluster_neurons(new_model2.get_weights(), n_clusters=100, cluster_weights=None)\n",
    "# new_weights2 = cluster_neurons(new_model2.get_weights(), n_clusters=100, cluster_weights=get_cluster_weights(new_model2.get_weights()).detach())\n",
    "new_model3 = Stack(input_dim=784, hidden_dim=new_weights2[0].shape[0], output_dim=10)\n",
    "new_model3.set_weights(new_weights2)\n",
    "\n",
    "print(model(images).sum(), new_model3(images).sum())\n",
    "\n",
    "# number of parameters of each model\n",
    "sum([w.numel() for w in model.parameters()]), sum([w.numel() for w in new_model3.parameters()])"
   ]
  },
  {
   "cell_type": "code",
   "execution_count": null,
   "metadata": {},
   "outputs": [
    {
     "data": {
      "text/plain": [
       "(87350, 814090)"
      ]
     },
     "execution_count": 12,
     "metadata": {},
     "output_type": "execute_result"
    }
   ],
   "source": [
    "# calculate the number of parameters of the new model (100 clusters) and the original model (1024 neurons)\n",
    "784 * 100 + 100 * 10 + 100 + 10 + 784 * 10, 784 * 1024 + 1024 + 1024 * 10 + 10"
   ]
  },
  {
   "cell_type": "code",
   "execution_count": 77,
   "metadata": {},
   "outputs": [
    {
     "name": "stdout",
     "output_type": "stream",
     "text": [
      "New model3:\n"
     ]
    },
    {
     "name": "stderr",
     "output_type": "stream",
     "text": [
      "100%|██████████| 313/313 [00:03<00:00, 80.77it/s] "
     ]
    },
    {
     "name": "stdout",
     "output_type": "stream",
     "text": [
      "Accuracy of the network on the 10000 test images: 97 %\n",
      "Average loss: 0.003030\n"
     ]
    },
    {
     "name": "stderr",
     "output_type": "stream",
     "text": [
      "\n"
     ]
    }
   ],
   "source": [
    "print('New model3:')\n",
    "evaluate(new_model3, testloader)"
   ]
  },
  {
   "cell_type": "markdown",
   "metadata": {},
   "source": [
    "### SVD affine weights"
   ]
  },
  {
   "cell_type": "markdown",
   "metadata": {},
   "source": [
    "As a final touch, we can apply SVD to the affine weights of the model. \n",
    "This will hopefully allow us to reduce the number of parameters in the model even more."
   ]
  },
  {
   "cell_type": "code",
   "execution_count": 78,
   "metadata": {},
   "outputs": [
    {
     "name": "stdout",
     "output_type": "stream",
     "text": [
      "tensor(-3856.2852, grad_fn=<SumBackward0>) tensor(-3519.5176, grad_fn=<SumBackward0>)\n"
     ]
    },
    {
     "data": {
      "text/plain": [
       "(821930, 83480)"
      ]
     },
     "execution_count": 78,
     "metadata": {},
     "output_type": "execute_result"
    }
   ],
   "source": [
    "# new_weights3 = [new_weights2[0], new_weights2[1], new_weights2[2], new_weights2[3], P, Q]\n",
    "affine_neurons_left = 5\n",
    "new_weights3 = svd_affine(new_model3.get_weights(), affine_neurons_left=affine_neurons_left)\n",
    "new_model4 = svdStack(input_dim=784, hidden_dim=new_weights3[0].shape[0], output_dim=10, hidden_affine_dim=affine_neurons_left)\n",
    "new_model4.set_weights(new_weights3)\n",
    "\n",
    "print(model(images).sum(), new_model4(images).sum())\n",
    "\n",
    "# number of parameters of each model\n",
    "sum([w.numel() for w in model.parameters()]), sum([w.numel() for w in new_model4.parameters()])"
   ]
  },
  {
   "cell_type": "code",
   "execution_count": 79,
   "metadata": {},
   "outputs": [
    {
     "name": "stdout",
     "output_type": "stream",
     "text": [
      "New model4:\n"
     ]
    },
    {
     "name": "stderr",
     "output_type": "stream",
     "text": [
      "  0%|          | 0/313 [00:00<?, ?it/s]"
     ]
    },
    {
     "name": "stderr",
     "output_type": "stream",
     "text": [
      "100%|██████████| 313/313 [00:03<00:00, 80.05it/s] "
     ]
    },
    {
     "name": "stdout",
     "output_type": "stream",
     "text": [
      "Accuracy of the network on the 10000 test images: 96 %\n",
      "Average loss: 0.003380\n"
     ]
    },
    {
     "name": "stderr",
     "output_type": "stream",
     "text": [
      "\n"
     ]
    }
   ],
   "source": [
    "print('New model4:')\n",
    "evaluate(new_model4, testloader)"
   ]
  },
  {
   "cell_type": "markdown",
   "metadata": {},
   "source": [
    "# Reducing a FFN (without residual/affine connection)"
   ]
  },
  {
   "cell_type": "markdown",
   "metadata": {},
   "source": [
    "Similar as above, except we work with a regular feedforward network (FFN), so without residual affine connections."
   ]
  },
  {
   "cell_type": "code",
   "execution_count": 1,
   "metadata": {},
   "outputs": [],
   "source": [
    "from stack import Stack, svdStack, FFN\n",
    "from reduction import remove_outside_neurons, remove_weak_neurons, compute_bvv, get_cluster_weights\n",
    "from reduction import cluster_neurons, svd_affine\n",
    "\n",
    "import tqdm\n",
    "import torch\n",
    "import torchvision\n",
    "import torchvision.transforms as transforms\n",
    "import torch.nn.functional as F\n",
    "\n",
    "device = torch.device(\"cuda:0\" if torch.cuda.is_available() else \"cpu\")"
   ]
  },
  {
   "cell_type": "code",
   "execution_count": 2,
   "metadata": {},
   "outputs": [
    {
     "data": {
      "text/plain": [
       "torch.Size([100, 784])"
      ]
     },
     "execution_count": 2,
     "metadata": {},
     "output_type": "execute_result"
    }
   ],
   "source": [
    "transform = transforms.Compose([transforms.ToTensor()])\n",
    "trainset = torchvision.datasets.MNIST(root='./data', train=True, download=True, transform=transform)\n",
    "testset = torchvision.datasets.MNIST(root='./data', train=False, download=True, transform=transform)\n",
    "testloader = torch.utils.data.DataLoader(testset, batch_size=32, shuffle=False, num_workers=2)\n",
    "\n",
    "def evaluate(model, testloader):\n",
    "    # evaluate the model accuracy and loss on the test set\n",
    "    model.eval()\n",
    "    model.to(device)\n",
    "    correct = 0\n",
    "    total = 0\n",
    "    loss = 0\n",
    "    with torch.no_grad():\n",
    "        for data in tqdm.tqdm(testloader):\n",
    "            images, labels = data[0].to(device), data[1].to(device)\n",
    "            outputs = model(images.view(-1, 784))\n",
    "            _, predicted = torch.max(outputs, 1)\n",
    "            total += labels.size(0)\n",
    "            correct += (predicted == labels).sum().item()\n",
    "            loss += F.cross_entropy(outputs, labels).item()\n",
    "    model.to('cpu')\n",
    "\n",
    "    print('Accuracy of the network on the 10000 test images: %d %%' % (100 * correct / total))\n",
    "    # print('Average loss: %.3f' % (loss / total))\n",
    "    print('Average loss: %.6f' % (loss / total))\n",
    "\n",
    "# get a tensor of the first 100 images, shape: (100, 1, 28, 28)\n",
    "images = torch.stack([image for image, label in [trainset[i] for i in range(100)]])\n",
    "# reshape to (100, 784)\n",
    "images = images.view(100, -1)\n",
    "images.shape"
   ]
  },
  {
   "cell_type": "code",
   "execution_count": 3,
   "metadata": {},
   "outputs": [
    {
     "data": {
      "text/plain": [
       "FFN(\n",
       "  (affine1): Linear(in_features=784, out_features=1024, bias=True)\n",
       "  (affine2): Linear(in_features=1024, out_features=10, bias=True)\n",
       "  (dropout): Dropout(p=0.1, inplace=False)\n",
       ")"
      ]
     },
     "execution_count": 3,
     "metadata": {},
     "output_type": "execute_result"
    }
   ],
   "source": [
    "# model = Stack(input_dim=784, hidden_dim=1024, output_dim=10, dropout=0.1)\n",
    "model = FFN(input_dim=784, hidden_dim=1024, output_dim=10, dropout=0.1)\n",
    "\n",
    "checkpoint = torch.load('./checkpoints/simpleFFN_epoch=19-step=9380.ckpt')['state_dict']\n",
    "for k in list(checkpoint.keys()):\n",
    "    checkpoint[k.removeprefix('model.')] = checkpoint.pop(k)\n",
    "\n",
    "model.load_state_dict(checkpoint)\n",
    "model.eval()"
   ]
  },
  {
   "cell_type": "markdown",
   "metadata": {},
   "source": [
    "Removing outside neurons should automatically return a model with an affine connection.\n",
    "\n",
    "The next steps (removing weak neurons, clustering neurons, and applying SVD to affine weights) should then be the same as above."
   ]
  },
  {
   "cell_type": "code",
   "execution_count": 9,
   "metadata": {},
   "outputs": [
    {
     "name": "stdout",
     "output_type": "stream",
     "text": [
      "number of hidden neurons: 520\n",
      "tensor(-3811.3840, grad_fn=<SumBackward0>) tensor(-3811.3840, grad_fn=<SumBackward0>)\n"
     ]
    },
    {
     "data": {
      "text/plain": [
       "(814090, 421250)"
      ]
     },
     "execution_count": 9,
     "metadata": {},
     "output_type": "execute_result"
    }
   ],
   "source": [
    "new_weights = remove_outside_neurons(model.get_weights(), images)\n",
    "new_model = Stack(input_dim=784, hidden_dim=new_weights[0].shape[0], output_dim=10)\n",
    "new_model.set_weights(new_weights)\n",
    "new_model.eval()\n",
    "\n",
    "print(f\"number of hidden neurons: {new_weights[0].shape[0]}\")\n",
    "\n",
    "print(model(images).sum(), new_model(images).sum())\n",
    "\n",
    "# number of parameters of each model\n",
    "sum([w.numel() for w in model.parameters()]), sum([w.numel() for w in new_model.parameters()])"
   ]
  },
  {
   "cell_type": "code",
   "execution_count": 10,
   "metadata": {},
   "outputs": [
    {
     "name": "stdout",
     "output_type": "stream",
     "text": [
      "Original model:\n"
     ]
    },
    {
     "name": "stderr",
     "output_type": "stream",
     "text": [
      "100%|██████████| 313/313 [00:04<00:00, 72.35it/s] \n"
     ]
    },
    {
     "name": "stdout",
     "output_type": "stream",
     "text": [
      "Accuracy of the network on the 10000 test images: 97 %\n",
      "Average loss: 0.002598\n",
      "New model:\n"
     ]
    },
    {
     "name": "stderr",
     "output_type": "stream",
     "text": [
      "100%|██████████| 313/313 [00:04<00:00, 73.39it/s] "
     ]
    },
    {
     "name": "stdout",
     "output_type": "stream",
     "text": [
      "Accuracy of the network on the 10000 test images: 97 %\n",
      "Average loss: 0.002598\n"
     ]
    },
    {
     "name": "stderr",
     "output_type": "stream",
     "text": [
      "\n"
     ]
    }
   ],
   "source": [
    "print('Original model:')\n",
    "evaluate(model, testloader)\n",
    "print('New model:')\n",
    "evaluate(new_model, testloader)"
   ]
  },
  {
   "cell_type": "code",
   "execution_count": 11,
   "metadata": {},
   "outputs": [
    {
     "name": "stdout",
     "output_type": "stream",
     "text": [
      "number of hidden neurons: 290\n",
      "tensor(-3811.3840, grad_fn=<SumBackward0>) tensor(-3770.6396, grad_fn=<SumBackward0>)\n"
     ]
    },
    {
     "data": {
      "text/plain": [
       "(814090, 238400)"
      ]
     },
     "execution_count": 11,
     "metadata": {},
     "output_type": "execute_result"
    }
   ],
   "source": [
    "# new_weights = [v[index][discard_neurons:], b[index][discard_neurons:], w[:, index][:, discard_neurons:], c, w_affine]\n",
    "new_weights = remove_weak_neurons(new_model.get_weights(), discard_neurons=230)\n",
    "new_model2 = Stack(input_dim=784, hidden_dim=new_weights[0].shape[0], output_dim=10)\n",
    "new_model2.set_weights(new_weights)\n",
    "new_model2.eval()\n",
    "\n",
    "print(f\"number of hidden neurons: {new_weights[0].shape[0]}\")\n",
    "\n",
    "print(model(images).sum(), new_model2(images).sum())\n",
    "\n",
    "# number of parameters of each model\n",
    "sum([w.numel() for w in model.parameters()]), sum([w.numel() for w in new_model2.parameters()])"
   ]
  },
  {
   "cell_type": "code",
   "execution_count": 12,
   "metadata": {},
   "outputs": [
    {
     "name": "stdout",
     "output_type": "stream",
     "text": [
      "New model2:\n"
     ]
    },
    {
     "name": "stderr",
     "output_type": "stream",
     "text": [
      "100%|██████████| 313/313 [00:04<00:00, 73.13it/s] "
     ]
    },
    {
     "name": "stdout",
     "output_type": "stream",
     "text": [
      "Accuracy of the network on the 10000 test images: 97 %\n",
      "Average loss: 0.002605\n"
     ]
    },
    {
     "name": "stderr",
     "output_type": "stream",
     "text": [
      "\n"
     ]
    }
   ],
   "source": [
    "print('New model2:')\n",
    "evaluate(new_model2, testloader)"
   ]
  },
  {
   "cell_type": "code",
   "execution_count": 13,
   "metadata": {},
   "outputs": [
    {
     "name": "stdout",
     "output_type": "stream",
     "text": [
      "Done clustering bvv. Shape of centers: (100, 1568)\n",
      "tensor(-3811.3840, grad_fn=<SumBackward0>) tensor(-3536.1545, grad_fn=<SumBackward0>)\n"
     ]
    },
    {
     "data": {
      "text/plain": [
       "(814090, 87350)"
      ]
     },
     "execution_count": 13,
     "metadata": {},
     "output_type": "execute_result"
    }
   ],
   "source": [
    "# new_weights2 = get_clustered_weights(new_model2.get_weights(), cluster)\n",
    "# new_weights2 = [V, B, W.T, new_weights[3], new_weights[4]]\n",
    "new_weights2 = cluster_neurons(new_model2.get_weights(), n_clusters=100, cluster_weights=None)\n",
    "# new_weights2 = cluster_neurons(new_model2.get_weights(), n_clusters=100, cluster_weights=get_cluster_weights(new_model2.get_weights()).detach())\n",
    "new_model3 = Stack(input_dim=784, hidden_dim=new_weights2[0].shape[0], output_dim=10)\n",
    "new_model3.set_weights(new_weights2)\n",
    "\n",
    "print(model(images).sum(), new_model3(images).sum())\n",
    "\n",
    "# number of parameters of each model\n",
    "sum([w.numel() for w in model.parameters()]), sum([w.numel() for w in new_model3.parameters()])"
   ]
  },
  {
   "cell_type": "code",
   "execution_count": 14,
   "metadata": {},
   "outputs": [
    {
     "name": "stdout",
     "output_type": "stream",
     "text": [
      "New model3:\n"
     ]
    },
    {
     "name": "stderr",
     "output_type": "stream",
     "text": [
      "100%|██████████| 313/313 [00:04<00:00, 71.48it/s] "
     ]
    },
    {
     "name": "stdout",
     "output_type": "stream",
     "text": [
      "Accuracy of the network on the 10000 test images: 97 %\n",
      "Average loss: 0.003189\n"
     ]
    },
    {
     "name": "stderr",
     "output_type": "stream",
     "text": [
      "\n"
     ]
    }
   ],
   "source": [
    "print('New model3:')\n",
    "evaluate(new_model3, testloader)"
   ]
  },
  {
   "cell_type": "markdown",
   "metadata": {},
   "source": [
    "# Transformer debugging"
   ]
  },
  {
   "cell_type": "code",
   "execution_count": 1,
   "metadata": {},
   "outputs": [],
   "source": [
    "import torch\n",
    "import torch.nn as nn\n",
    "import torch.nn.functional as F"
   ]
  },
  {
   "cell_type": "code",
   "execution_count": 12,
   "metadata": {},
   "outputs": [
    {
     "data": {
      "text/plain": [
       "(torch.Size([4, 100]), torch.Size([4, 100, 64]), torch.float32)"
      ]
     },
     "execution_count": 12,
     "metadata": {},
     "output_type": "execute_result"
    }
   ],
   "source": [
    "embed_layer = nn.Embedding(1024, 64)\n",
    "batch_size = 4\n",
    "sentence_length = 100\n",
    "random_input = torch.randint(0, 1024, (batch_size, sentence_length))\n",
    "random_input.shape, embed_layer(random_input).shape, embed_layer(random_input).dtype"
   ]
  },
  {
   "cell_type": "code",
   "execution_count": 15,
   "metadata": {},
   "outputs": [
    {
     "ename": "RuntimeError",
     "evalue": "The size of tensor a (100) must match the size of tensor b (64) at non-singleton dimension 2",
     "output_type": "error",
     "traceback": [
      "\u001b[1;31m---------------------------------------------------------------------------\u001b[0m",
      "\u001b[1;31mRuntimeError\u001b[0m                              Traceback (most recent call last)",
      "Input \u001b[1;32mIn [15]\u001b[0m, in \u001b[0;36m<cell line: 18>\u001b[1;34m()\u001b[0m\n\u001b[0;32m     15\u001b[0m         \u001b[38;5;28;01mreturn\u001b[39;00m \u001b[38;5;28mself\u001b[39m\u001b[38;5;241m.\u001b[39mdropout(x)\n\u001b[0;32m     17\u001b[0m positional_encoding \u001b[38;5;241m=\u001b[39m PositionalEncoding(\u001b[38;5;241m64\u001b[39m, \u001b[38;5;241m0\u001b[39m)\n\u001b[1;32m---> 18\u001b[0m \u001b[43mpositional_encoding\u001b[49m\u001b[43m(\u001b[49m\u001b[43mrandom_input\u001b[49m\u001b[43m)\u001b[49m\u001b[38;5;241m.\u001b[39mshape\n",
      "File \u001b[1;32mc:\\Users\\alexi\\AppData\\Local\\Programs\\Python\\Python310\\lib\\site-packages\\torch\\nn\\modules\\module.py:1511\u001b[0m, in \u001b[0;36mModule._wrapped_call_impl\u001b[1;34m(self, *args, **kwargs)\u001b[0m\n\u001b[0;32m   1509\u001b[0m     \u001b[38;5;28;01mreturn\u001b[39;00m \u001b[38;5;28mself\u001b[39m\u001b[38;5;241m.\u001b[39m_compiled_call_impl(\u001b[38;5;241m*\u001b[39margs, \u001b[38;5;241m*\u001b[39m\u001b[38;5;241m*\u001b[39mkwargs)  \u001b[38;5;66;03m# type: ignore[misc]\u001b[39;00m\n\u001b[0;32m   1510\u001b[0m \u001b[38;5;28;01melse\u001b[39;00m:\n\u001b[1;32m-> 1511\u001b[0m     \u001b[38;5;28;01mreturn\u001b[39;00m \u001b[38;5;28mself\u001b[39m\u001b[38;5;241m.\u001b[39m_call_impl(\u001b[38;5;241m*\u001b[39margs, \u001b[38;5;241m*\u001b[39m\u001b[38;5;241m*\u001b[39mkwargs)\n",
      "File \u001b[1;32mc:\\Users\\alexi\\AppData\\Local\\Programs\\Python\\Python310\\lib\\site-packages\\torch\\nn\\modules\\module.py:1520\u001b[0m, in \u001b[0;36mModule._call_impl\u001b[1;34m(self, *args, **kwargs)\u001b[0m\n\u001b[0;32m   1515\u001b[0m \u001b[38;5;66;03m# If we don't have any hooks, we want to skip the rest of the logic in\u001b[39;00m\n\u001b[0;32m   1516\u001b[0m \u001b[38;5;66;03m# this function, and just call forward.\u001b[39;00m\n\u001b[0;32m   1517\u001b[0m \u001b[38;5;28;01mif\u001b[39;00m \u001b[38;5;129;01mnot\u001b[39;00m (\u001b[38;5;28mself\u001b[39m\u001b[38;5;241m.\u001b[39m_backward_hooks \u001b[38;5;129;01mor\u001b[39;00m \u001b[38;5;28mself\u001b[39m\u001b[38;5;241m.\u001b[39m_backward_pre_hooks \u001b[38;5;129;01mor\u001b[39;00m \u001b[38;5;28mself\u001b[39m\u001b[38;5;241m.\u001b[39m_forward_hooks \u001b[38;5;129;01mor\u001b[39;00m \u001b[38;5;28mself\u001b[39m\u001b[38;5;241m.\u001b[39m_forward_pre_hooks\n\u001b[0;32m   1518\u001b[0m         \u001b[38;5;129;01mor\u001b[39;00m _global_backward_pre_hooks \u001b[38;5;129;01mor\u001b[39;00m _global_backward_hooks\n\u001b[0;32m   1519\u001b[0m         \u001b[38;5;129;01mor\u001b[39;00m _global_forward_hooks \u001b[38;5;129;01mor\u001b[39;00m _global_forward_pre_hooks):\n\u001b[1;32m-> 1520\u001b[0m     \u001b[38;5;28;01mreturn\u001b[39;00m forward_call(\u001b[38;5;241m*\u001b[39margs, \u001b[38;5;241m*\u001b[39m\u001b[38;5;241m*\u001b[39mkwargs)\n\u001b[0;32m   1522\u001b[0m \u001b[38;5;28;01mtry\u001b[39;00m:\n\u001b[0;32m   1523\u001b[0m     result \u001b[38;5;241m=\u001b[39m \u001b[38;5;28;01mNone\u001b[39;00m\n",
      "Input \u001b[1;32mIn [15]\u001b[0m, in \u001b[0;36mPositionalEncoding.forward\u001b[1;34m(self, x)\u001b[0m\n\u001b[0;32m     13\u001b[0m \u001b[38;5;28;01mdef\u001b[39;00m \u001b[38;5;21mforward\u001b[39m(\u001b[38;5;28mself\u001b[39m, x):\n\u001b[1;32m---> 14\u001b[0m     x \u001b[38;5;241m=\u001b[39m \u001b[43mx\u001b[49m\u001b[43m \u001b[49m\u001b[38;5;241;43m+\u001b[39;49m\u001b[43m \u001b[49m\u001b[38;5;28;43mself\u001b[39;49m\u001b[38;5;241;43m.\u001b[39;49m\u001b[43mpe\u001b[49m\u001b[43m[\u001b[49m\u001b[43m:\u001b[49m\u001b[43mx\u001b[49m\u001b[38;5;241;43m.\u001b[39;49m\u001b[43msize\u001b[49m\u001b[43m(\u001b[49m\u001b[38;5;241;43m0\u001b[39;49m\u001b[43m)\u001b[49m\u001b[43m,\u001b[49m\u001b[43m \u001b[49m\u001b[43m:\u001b[49m\u001b[43m]\u001b[49m\n\u001b[0;32m     15\u001b[0m     \u001b[38;5;28;01mreturn\u001b[39;00m \u001b[38;5;28mself\u001b[39m\u001b[38;5;241m.\u001b[39mdropout(x)\n",
      "\u001b[1;31mRuntimeError\u001b[0m: The size of tensor a (100) must match the size of tensor b (64) at non-singleton dimension 2"
     ]
    }
   ],
   "source": [
    "class PositionalEncoding(nn.Module):\n",
    "    def __init__(self, d_model, dropout=0.1, max_len=5000):\n",
    "        super(PositionalEncoding, self).__init__()\n",
    "        self.dropout = nn.Dropout(p=dropout)\n",
    "        pe = torch.zeros(max_len, d_model)\n",
    "        position = torch.arange(0, max_len).unsqueeze(1)\n",
    "        div_term = torch.exp(torch.arange(0, d_model, 2) * -(torch.log(torch.tensor(10000.0)) / d_model))\n",
    "        pe[:, 0::2] = torch.sin(position.float() * div_term)\n",
    "        pe[:, 1::2] = torch.cos(position.float() * div_term)\n",
    "        pe = pe.unsqueeze(0).transpose(0, 1)\n",
    "        self.register_buffer('pe', pe)\n",
    "\n",
    "    def forward(self, x):\n",
    "        x = x + self.pe[:x.size(0), :]\n",
    "        return self.dropout(x)\n",
    "    \n",
    "positional_encoding = PositionalEncoding(64, 0)\n",
    "positional_encoding(random_input).shape"
   ]
  },
  {
   "cell_type": "markdown",
   "metadata": {},
   "source": [
    "# Vision Transformer on Tiny ImageNet"
   ]
  },
  {
   "cell_type": "code",
   "execution_count": 2,
   "metadata": {},
   "outputs": [],
   "source": [
    "from matplotlib import pyplot as plt\n",
    "\n",
    "from torchvision import transforms\n",
    "from datasets import load_dataset\n",
    "from simple_ViT import VisionTransformer\n",
    "from dataset_tiny_imagenet import TinyImageNetDataModule\n",
    "\n",
    "from lightning import Trainer\n",
    "import torch\n",
    "from torch import nn, optim\n",
    "import lightning as L"
   ]
  },
  {
   "cell_type": "code",
   "execution_count": null,
   "metadata": {},
   "outputs": [
    {
     "name": "stderr",
     "output_type": "stream",
     "text": [
      "Found cached dataset parquet (C:/Users/alexi/.cache/huggingface/datasets/Maysee___parquet/Maysee--tiny-imagenet-2eb6c3acd8ebc62a/0.0.0/2a3b91fbd88a2c90d1dbbb32b460cf621d31bd5b05b934492fdef7d8d6f236ec)\n"
     ]
    },
    {
     "data": {
      "text/plain": [
       "Dataset({\n",
       "    features: ['image', 'label'],\n",
       "    num_rows: 10000\n",
       "})"
      ]
     },
     "execution_count": 2,
     "metadata": {},
     "output_type": "execute_result"
    }
   ],
   "source": [
    "tiny_imagenet = load_dataset('Maysee/tiny-imagenet', split='valid')\n",
    "tiny_imagenet"
   ]
  },
  {
   "cell_type": "code",
   "execution_count": 3,
   "metadata": {},
   "outputs": [],
   "source": [
    "image0 = transforms.ToTensor()(tiny_imagenet[0][\"image\"])"
   ]
  },
  {
   "cell_type": "code",
   "execution_count": 4,
   "metadata": {},
   "outputs": [
    {
     "data": {
      "text/plain": [
       "torch.Size([3, 64, 64])"
      ]
     },
     "execution_count": 4,
     "metadata": {},
     "output_type": "execute_result"
    }
   ],
   "source": [
    "image0.shape"
   ]
  },
  {
   "cell_type": "code",
   "execution_count": 5,
   "metadata": {},
   "outputs": [
    {
     "data": {
      "text/plain": [
       "{'image': <PIL.JpegImagePlugin.JpegImageFile image mode=RGB size=64x64 at 0x29AD7116B90>,\n",
       " 'label': 0}"
      ]
     },
     "execution_count": 5,
     "metadata": {},
     "output_type": "execute_result"
    }
   ],
   "source": [
    "tiny_imagenet[0]"
   ]
  },
  {
   "cell_type": "code",
   "execution_count": 6,
   "metadata": {},
   "outputs": [
    {
     "data": {
      "image/png": "[encoded data removed]",
      "text/plain": [
       "<Figure size 432x288 with 1 Axes>"
      ]
     },
     "metadata": {
      "needs_background": "light"
     },
     "output_type": "display_data"
    }
   ],
   "source": [
    "plt.imshow(image0.permute(1, 2, 0))\n",
    "plt.show()"
   ]
  },
  {
   "cell_type": "code",
   "execution_count": 7,
   "metadata": {},
   "outputs": [
    {
     "data": {
      "text/plain": [
       "(tensor([[ 0.1440,  0.3413, -0.3299, -0.1898, -0.5004,  0.9176, -0.6309, -0.8269,\n",
       "          -0.4450, -1.0778]], grad_fn=<AddmmBackward0>),\n",
       " torch.Size([1, 10]))"
      ]
     },
     "execution_count": 7,
     "metadata": {},
     "output_type": "execute_result"
    }
   ],
   "source": [
    "vit = VisionTransformer(img_size=64, patch_size=4, in_channels=3, num_classes=10, embed_dim=32, num_heads=8, mlp_dim=128, num_layers=2)\n",
    "vit(image0.unsqueeze(0)), vit(image0.unsqueeze(0)).shape"
   ]
  },
  {
   "cell_type": "code",
   "execution_count": 3,
   "metadata": {},
   "outputs": [],
   "source": [
    "# dataset = TinyImageNetDataset(tiny_imagenet, transform=transforms.ToTensor())\n",
    "dataloader = TinyImageNetDataModule(batch_size=32, num_workers=4)"
   ]
  },
  {
   "cell_type": "code",
   "execution_count": 4,
   "metadata": {},
   "outputs": [
    {
     "name": "stderr",
     "output_type": "stream",
     "text": [
      "Found cached dataset parquet (C:/Users/alexi/.cache/huggingface/datasets/Maysee___parquet/Maysee--tiny-imagenet-2eb6c3acd8ebc62a/0.0.0/2a3b91fbd88a2c90d1dbbb32b460cf621d31bd5b05b934492fdef7d8d6f236ec)\n",
      "Found cached dataset parquet (C:/Users/alexi/.cache/huggingface/datasets/Maysee___parquet/Maysee--tiny-imagenet-2eb6c3acd8ebc62a/0.0.0/2a3b91fbd88a2c90d1dbbb32b460cf621d31bd5b05b934492fdef7d8d6f236ec)\n"
     ]
    }
   ],
   "source": [
    "dataloader.setup()\n",
    "train_dataloader = dataloader.train_dataloader()"
   ]
  },
  {
   "cell_type": "code",
   "execution_count": 5,
   "metadata": {},
   "outputs": [
    {
     "name": "stdout",
     "output_type": "stream",
     "text": [
      "torch.Size([32, 3, 64, 64]) torch.Size([32])\n"
     ]
    }
   ],
   "source": [
    "# let's inspect the dataloader\n",
    "# dataloader.setup()\n",
    "# train_dataloader = dataloader.train_dataloader()\n",
    "for i, batch in enumerate(train_dataloader):\n",
    "# for i, batch in enumerate(dataloader.train_dataloader()):\n",
    "    tmp = batch\n",
    "    print(batch[0].shape, batch[1].shape)\n",
    "    if i == 0:\n",
    "        break"
   ]
  },
  {
   "cell_type": "code",
   "execution_count": 6,
   "metadata": {},
   "outputs": [
    {
     "data": {
      "text/plain": [
       "tensor([ 72, 108,  21, 110,  24, 107,  23,   8, 185,  25,  53,  95,  39,  88,\n",
       "        129,  51,   1, 167, 115, 149, 153, 147, 153, 178,  72,  59,  61, 127,\n",
       "         13, 140, 102, 159])"
      ]
     },
     "execution_count": 6,
     "metadata": {},
     "output_type": "execute_result"
    }
   ],
   "source": [
    "tmp[1]"
   ]
  },
  {
   "cell_type": "code",
   "execution_count": 7,
   "metadata": {},
   "outputs": [
    {
     "name": "stdout",
     "output_type": "stream",
     "text": [
      "20\n",
      "22\n"
     ]
    }
   ],
   "source": [
    "for i, e in enumerate(tmp[1].tolist()):\n",
    "    if e == 153: print(i)"
   ]
  },
  {
   "cell_type": "code",
   "execution_count": 8,
   "metadata": {},
   "outputs": [
    {
     "name": "stdout",
     "output_type": "stream",
     "text": [
      "tensor(153)\n"
     ]
    },
    {
     "data": {
      "image/png": "[encoded data removed]",
      "text/plain": [
       "<Figure size 432x288 with 1 Axes>"
      ]
     },
     "metadata": {
      "needs_background": "light"
     },
     "output_type": "display_data"
    },
    {
     "name": "stdout",
     "output_type": "stream",
     "text": [
      "tensor(153)\n"
     ]
    },
    {
     "data": {
      "image/png": "[encoded data removed]",
      "text/plain": [
       "<Figure size 432x288 with 1 Axes>"
      ]
     },
     "metadata": {
      "needs_background": "light"
     },
     "output_type": "display_data"
    }
   ],
   "source": [
    "i = 20\n",
    "print(tmp[1][i])\n",
    "plt.imshow(tmp[0][i].permute(1,2,0))\n",
    "plt.show()\n",
    "i = 22\n",
    "print(tmp[1][i])\n",
    "plt.imshow(tmp[0][i].permute(1,2,0))\n",
    "plt.show()"
   ]
  },
  {
   "cell_type": "code",
   "execution_count": 11,
   "metadata": {},
   "outputs": [
    {
     "data": {
      "text/plain": [
       "<dataset_tiny_imagenet.TinyImageNetDataModule at 0x29ad7117b50>"
      ]
     },
     "execution_count": 11,
     "metadata": {},
     "output_type": "execute_result"
    }
   ],
   "source": [
    "dataloader"
   ]
  },
  {
   "cell_type": "code",
   "execution_count": null,
   "metadata": {},
   "outputs": [],
   "source": [
    "torch.set_float32_matmul_precision('medium')\n",
    "\n",
    "class SimpleViT(L.LightningModule):\n",
    "    def __init__(self):\n",
    "        super(SimpleViT, self).__init__()\n",
    "        self.model = VisionTransformer(img_size=64, patch_size=4, in_channels=3, num_classes=200, embed_dim=32, num_heads=8, mlp_dim=128, num_layers=2)\n",
    "\n",
    "    def forward(self, x):\n",
    "        return self.model(x)\n",
    "    \n",
    "    def shared_step(self, batch, mode='train'):\n",
    "        x, y = batch\n",
    "        y_hat = self(x)\n",
    "        # loss = F.cross_entropy(y_hat, y)\n",
    "        loss = nn.CrossEntropyLoss()(y_hat, y)\n",
    "        self.log(f'{mode}_loss', loss, prog_bar=True)\n",
    "        acc = (torch.argmax(y_hat, dim=1) == y).float().mean()\n",
    "        self.log(f'{mode}_acc', acc, prog_bar=True)\n",
    "        return loss\n",
    "    \n",
    "    def training_step(self, batch, batch_idx):\n",
    "        return self.shared_step(batch)\n",
    "\n",
    "    def configure_optimizers(self):\n",
    "        return optim.Adam(self.parameters(), lr=0.001)\n",
    "\n",
    "dm = TinyImageNetDataModule(batch_size=32, num_workers=4)\n",
    "model = SimpleViT()\n",
    "\n",
    "trainer = Trainer(\n",
    "    max_epochs=1,\n",
    ")\n",
    "trainer.fit(model, datamodule=dm)"
   ]
  },
  {
   "cell_type": "code",
   "execution_count": null,
   "metadata": {},
   "outputs": [],
   "source": [
    "# del(tensorflow)\n",
    "import tensorflow\n",
    "tensorflow.io"
   ]
  }
 ],
 "metadata": {
  "kernelspec": {
   "display_name": "Python 3",
   "language": "python",
   "name": "python3"
  },
  "language_info": {
   "codemirror_mode": {
    "name": "ipython",
    "version": 3
   },
   "file_extension": ".py",
   "mimetype": "text/x-python",
   "name": "python",
   "nbconvert_exporter": "python",
   "pygments_lexer": "ipython3",
   "version": "3.10.3"
  }
 },
 "nbformat": 4,
 "nbformat_minor": 2
}
